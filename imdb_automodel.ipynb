{
 "cells": [
  {
   "cell_type": "code",
   "execution_count": 1,
   "metadata": {},
   "outputs": [],
   "source": [
    "#import pandas as pd\n",
    "import polars as pl\n",
    "import matplotlib.pyplot as plt\n",
    "import seaborn as sns\n",
    "import plotly_express as px\n",
    "import numpy as np"
   ]
  },
  {
   "cell_type": "markdown",
   "metadata": {},
   "source": [
    "Explo"
   ]
  },
  {
   "cell_type": "code",
   "execution_count": 2,
   "metadata": {},
   "outputs": [],
   "source": [
    "tablelist=[\"name.basics.tsv.gz\", \"title.akas.tsv.gz\", \"title.basics.tsv.gz\", \"title.crew.tsv.gz\", \"title.episode.tsv.gz\", \"title.principals.tsv.gz\", \"title.ratings.tsv.gz\", \"TMDB.csv\"]"
   ]
  },
  {
   "cell_type": "code",
   "execution_count": 3,
   "metadata": {},
   "outputs": [
    {
     "name": "stdout",
     "output_type": "stream",
     "text": [
      "\n",
      "Table \"name.basics.tsv.gz\" has Rows_MLN = 13.9 and columns = 6 :\n",
      "\n",
      "Column \"nconst\" Type = \"String\" # Unique_MLN = 13.9 # Unique_pcts = 100.0% # Empty_pcts = 0.0% #  Prefix detected = nm # \n",
      "Column \"primaryName\" Type = \"String\" # Unique_MLN = 10.7 # Unique_pcts = 77.0% # Empty_pcts = 0.0% # \n",
      "Column \"birthYear\" Type = \"Int64\" # Unique_MLN = 0.0 # Unique_pcts = 0.0% # Empty_pcts = 95.0% # \n",
      "Column \"deathYear\" Type = \"Int64\" # Unique_MLN = 0.0 # Unique_pcts = 0.0% # Empty_pcts = 98.0% # \n",
      "Column \"primaryProfession\" Type = \"String\" # /!\\ List detected with ratio 138.0% /!\\ Unique_MLN = 0.0 # Unique_pcts = 0.0% # Empty_pcts = 19.0% # \n",
      "Column \"knownForTitles\" Type = \"String\" # /!\\ List detected with ratio 185.0% /!\\ Unique_MLN = 5.8 # Unique_pcts = 42.0% # Empty_pcts = 11.0% #  Prefix detected = tt # \n",
      "Prefix detected : ['nm', 'tt']\n",
      "Primary Key is ['nconst'] has size_MLN [13.9]\n",
      "Foreign Key could be ['knownForTitles_exploded'] has size_MLN [5.8]\n"
     ]
    },
    {
     "data": {
      "text/plain": [
       "<bound method DataFrame.transpose of shape: (6, 6)\n",
       "┌────────────┬────────────────────┬───────────┬───────────┬───────────────────┬────────────────────┐\n",
       "│ nconst     ┆ primaryName        ┆ birthYear ┆ deathYear ┆ primaryProfession ┆ knownForTitles     │\n",
       "│ ---        ┆ ---                ┆ ---       ┆ ---       ┆ ---               ┆ ---                │\n",
       "│ str        ┆ str                ┆ i64       ┆ i64       ┆ str               ┆ str                │\n",
       "╞════════════╪════════════════════╪═══════════╪═══════════╪═══════════════════╪════════════════════╡\n",
       "│ nm9570225  ┆ Senarath           ┆ null      ┆ null      ┆ actor             ┆ tt7925724,tt790298 │\n",
       "│            ┆ Mapitigama         ┆           ┆           ┆                   ┆ 2                  │\n",
       "│ nm14116768 ┆ Danny Swart        ┆ null      ┆ null      ┆ null              ┆ tt0412116          │\n",
       "│ nm9545314  ┆ Rachid Ouchen      ┆ null      ┆ null      ┆ composer          ┆ tt7855880          │\n",
       "│ nm15880378 ┆ John Steward       ┆ null      ┆ null      ┆ null              ┆ null               │\n",
       "│ nm14827535 ┆ Angel Mathyolweni  ┆ null      ┆ null      ┆ miscellaneous     ┆ tt27415828         │\n",
       "│ nm11912394 ┆ Ryan Krank         ┆ null      ┆ null      ┆ null              ┆ tt8129504          │\n",
       "└────────────┴────────────────────┴───────────┴───────────┴───────────────────┴────────────────────┘>"
      ]
     },
     "metadata": {},
     "output_type": "display_data"
    },
    {
     "name": "stdout",
     "output_type": "stream",
     "text": [
      "\n",
      "Table \"title.akas.tsv.gz\" has Rows_MLN = 50.5 and columns = 8 :\n",
      "\n",
      "Column \"titleId\" Type = \"String\" # Unique_MLN = 11.2 # Unique_pcts = 22.0% # Empty_pcts = 0.0% #  Prefix detected = tt # \n",
      "Column \"ordering\" Type = \"Int64\" # Unique_MLN = 0.0 # Unique_pcts = 0.0% # Empty_pcts = 0.0% # \n",
      "Column \"title\" Type = \"String\" # Unique_MLN = 7.2 # Unique_pcts = 14.0% # Empty_pcts = 0.0% # \n",
      "Column \"region\" Type = \"String\" # Unique_MLN = 0.0 # Unique_pcts = 0.0% # Empty_pcts = 22.0% # \n",
      "Column \"language\" Type = \"String\" # Unique_MLN = 0.0 # Unique_pcts = 0.0% # Empty_pcts = 33.0% # \n",
      "Column \"types\" Type = \"String\" # Unique_MLN = 0.0 # Unique_pcts = 0.0% # Empty_pcts = 69.0% # \n",
      "Column \"attributes\" Type = \"String\" # Unique_MLN = 0.0 # Unique_pcts = 0.0% # Empty_pcts = 99.0% # \n",
      "Column \"isOriginalTitle\" Type = \"Int64\" # Unique_MLN = 0.0 # Unique_pcts = 0.0% # Empty_pcts = 0.0% # \n",
      "Prefix detected : ['tt']\n",
      "Primary Key is [] has size_MLN []\n",
      "Foreign Key could be ['titleId'] has size_MLN [11.2]\n"
     ]
    },
    {
     "data": {
      "text/plain": [
       "<bound method DataFrame.transpose of shape: (6, 8)\n",
       "┌────────────┬──────────┬───────────┬────────┬──────────┬──────────┬────────────┬──────────────────┐\n",
       "│ titleId    ┆ ordering ┆ title     ┆ region ┆ language ┆ types    ┆ attributes ┆ isOriginalTitle  │\n",
       "│ ---        ┆ ---      ┆ ---       ┆ ---    ┆ ---      ┆ ---      ┆ ---        ┆ ---              │\n",
       "│ str        ┆ i64      ┆ str       ┆ str    ┆ str      ┆ str      ┆ str        ┆ i64              │\n",
       "╞════════════╪══════════╪═══════════╪════════╪══════════╪══════════╪════════════╪══════════════════╡\n",
       "│ tt11894814 ┆ 2        ┆ Episódio  ┆ PT     ┆ pt       ┆ null     ┆ null       ┆ 0                │\n",
       "│            ┆          ┆ #1.167    ┆        ┆          ┆          ┆            ┆                  │\n",
       "│ tt9763110  ┆ 4        ┆ Épisode   ┆ FR     ┆ fr       ┆ null     ┆ null       ┆ 0                │\n",
       "│            ┆          ┆ #1.66     ┆        ┆          ┆          ┆            ┆                  │\n",
       "│ tt21431636 ┆ 4        ┆ Épisode   ┆ FR     ┆ fr       ┆ null     ┆ null       ┆ 0                │\n",
       "│            ┆          ┆ #1.362    ┆        ┆          ┆          ┆            ┆                  │\n",
       "│ tt3894092  ┆ 1        ┆ Episode   ┆ null   ┆ null     ┆ original ┆ null       ┆ 1                │\n",
       "│            ┆          ┆ #22.57    ┆        ┆          ┆          ┆            ┆                  │\n",
       "│ tt12350518 ┆ 14       ┆ ДАУ. Катя ┆ UA     ┆ null     ┆ null     ┆ new title  ┆ 0                │\n",
       "│            ┆          ┆ Таня      ┆        ┆          ┆          ┆            ┆                  │\n",
       "│ tt10566528 ┆ 5        ┆ Episodio  ┆ IT     ┆ it       ┆ null     ┆ null       ┆ 0                │\n",
       "│            ┆          ┆ #1.1275   ┆        ┆          ┆          ┆            ┆                  │\n",
       "└────────────┴──────────┴───────────┴────────┴──────────┴──────────┴────────────┴──────────────────┘>"
      ]
     },
     "metadata": {},
     "output_type": "display_data"
    },
    {
     "name": "stdout",
     "output_type": "stream",
     "text": [
      "\n",
      "Table \"title.basics.tsv.gz\" has Rows_MLN = 11.2 and columns = 9 :\n",
      "\n",
      "Column \"tconst\" Type = \"String\" # Unique_MLN = 11.2 # Unique_pcts = 100.0% # Empty_pcts = 0.0% #  Prefix detected = tt # \n",
      "Column \"titleType\" Type = \"String\" # Unique_MLN = 0.0 # Unique_pcts = 0.0% # Empty_pcts = 0.0% # \n",
      "Column \"primaryTitle\" Type = \"String\" # Unique_MLN = 5.0 # Unique_pcts = 45.0% # Empty_pcts = 0.0% # \n",
      "Column \"originalTitle\" Type = \"String\" # Unique_MLN = 5.1 # Unique_pcts = 45.0% # Empty_pcts = 0.0% # \n",
      "Column \"isAdult\" Type = \"Int64\" # Unique_MLN = 0.0 # Unique_pcts = 0.0% # Empty_pcts = 0.0% # \n",
      "Column \"startYear\" Type = \"Int64\" # Unique_MLN = 0.0 # Unique_pcts = 0.0% # Empty_pcts = 13.0% # \n",
      "Column \"endYear\" Type = \"String\" # Unique_MLN = 0.0 # Unique_pcts = 0.0% # Empty_pcts = 99.0% # \n",
      "Column \"runtimeMinutes\" Type = \"Int64\" # Unique_MLN = 0.0 # Unique_pcts = 0.0% # Empty_pcts = 68.0% # \n",
      "Column \"genres\" Type = \"String\" # /!\\ List detected with ratio 162.0% /!\\ Unique_MLN = 0.0 # Unique_pcts = 0.0% # Empty_pcts = 4.0% # \n",
      "Prefix detected : ['tt']\n",
      "Primary Key is ['tconst'] has size_MLN [11.2]\n",
      "Foreign Key could be [] has size_MLN []\n"
     ]
    },
    {
     "data": {
      "text/plain": [
       "<bound method DataFrame.transpose of shape: (6, 9)\n",
       "┌────────────┬───────────┬───────────┬───────────┬───┬───────────┬─────────┬───────────┬───────────┐\n",
       "│ tconst     ┆ titleType ┆ primaryTi ┆ originalT ┆ … ┆ startYear ┆ endYear ┆ runtimeMi ┆ genres    │\n",
       "│ ---        ┆ ---       ┆ tle       ┆ itle      ┆   ┆ ---       ┆ ---     ┆ nutes     ┆ ---       │\n",
       "│ str        ┆ str       ┆ ---       ┆ ---       ┆   ┆ i64       ┆ str     ┆ ---       ┆ str       │\n",
       "│            ┆           ┆ str       ┆ str       ┆   ┆           ┆         ┆ i64       ┆           │\n",
       "╞════════════╪═══════════╪═══════════╪═══════════╪═══╪═══════════╪═════════╪═══════════╪═══════════╡\n",
       "│ tt8882334  ┆ tvEpisode ┆ Episode   ┆ Episode   ┆ … ┆ 1967      ┆ null    ┆ null      ┆ null      │\n",
       "│            ┆           ┆ #1.344    ┆ #1.344    ┆   ┆           ┆         ┆           ┆           │\n",
       "│ tt16043670 ┆ tvEpisode ┆ Episode   ┆ Episode   ┆ … ┆ 1999      ┆ null    ┆ null      ┆ Talk-Show │\n",
       "│            ┆           ┆ dated 28  ┆ dated 28  ┆   ┆           ┆         ┆           ┆           │\n",
       "│            ┆           ┆ July 1999 ┆ July 1999 ┆   ┆           ┆         ┆           ┆           │\n",
       "│ tt33394880 ┆ tvEpisode ┆ Episode   ┆ Episode   ┆ … ┆ 1961      ┆ null    ┆ 15        ┆ News      │\n",
       "│            ┆           ┆ #1.480    ┆ #1.480    ┆   ┆           ┆         ┆           ┆           │\n",
       "│ tt6367202  ┆ tvEpisode ┆ Ali Baba  ┆ Ali Baba  ┆ … ┆ 2002      ┆ null    ┆ null      ┆ Adventure │\n",
       "│            ┆           ┆ and the   ┆ and the   ┆   ┆           ┆         ┆           ┆ ,Animatio │\n",
       "│            ┆           ┆ Faulty    ┆ Faulty    ┆   ┆           ┆         ┆           ┆ n,Comedy  │\n",
       "│            ┆           ┆ Thieve…   ┆ Thieve…   ┆   ┆           ┆         ┆           ┆           │\n",
       "│ tt11803546 ┆ tvEpisode ┆ Episode   ┆ Episode   ┆ … ┆ 1985      ┆ null    ┆ 22        ┆ Drama,Rom │\n",
       "│            ┆           ┆ #1.2684   ┆ #1.2684   ┆   ┆           ┆         ┆           ┆ ance      │\n",
       "│ tt1236076  ┆ tvEpisode ┆ A         ┆ Setsuna   ┆ … ┆ 2005      ┆ null    ┆ 23        ┆ Action,Ad │\n",
       "│            ┆           ┆ Fleeting  ┆ no yume   ┆   ┆           ┆         ┆           ┆ venture,A │\n",
       "│            ┆           ┆ Dream     ┆           ┆   ┆           ┆         ┆           ┆ nimation  │\n",
       "└────────────┴───────────┴───────────┴───────────┴───┴───────────┴─────────┴───────────┴───────────┘>"
      ]
     },
     "metadata": {},
     "output_type": "display_data"
    },
    {
     "name": "stdout",
     "output_type": "stream",
     "text": [
      "\n",
      "Table \"title.crew.tsv.gz\" has Rows_MLN = 10.6 and columns = 3 :\n",
      "\n",
      "Column \"tconst\" Type = \"String\" # Unique_MLN = 10.6 # Unique_pcts = 100.0% # Empty_pcts = 0.0% #  Prefix detected = tt # \n",
      "Column \"directors\" Type = \"String\" # /!\\ List detected with ratio 133.0% /!\\ Unique_MLN = 0.9 # Unique_pcts = 9.0% # Empty_pcts = 38.0% #  Prefix detected = nm # \n",
      "Column \"writers\" Type = \"String\" # /!\\ List detected with ratio 233.0% /!\\ Unique_MLN = 1.4 # Unique_pcts = 13.0% # Empty_pcts = 44.0% #  Prefix detected = nm # \n",
      "Prefix detected : ['tt', 'nm', 'nm']\n",
      "Primary Key is ['tconst'] has size_MLN [10.6]\n",
      "Foreign Key could be ['directors_exploded', 'writers_exploded'] has size_MLN [0.9, 1.4]\n"
     ]
    },
    {
     "data": {
      "text/plain": [
       "<bound method DataFrame.transpose of shape: (6, 3)\n",
       "┌────────────┬─────────────────────┬────────────┐\n",
       "│ tconst     ┆ directors           ┆ writers    │\n",
       "│ ---        ┆ ---                 ┆ ---        │\n",
       "│ str        ┆ str                 ┆ str        │\n",
       "╞════════════╪═════════════════════╪════════════╡\n",
       "│ tt1481582  ┆ nm1334828           ┆ nm1650325  │\n",
       "│ tt23897986 ┆ nm8662707,nm0387344 ┆ nm14915343 │\n",
       "│ tt3841072  ┆ null                ┆ null       │\n",
       "│ tt5534858  ┆ null                ┆ nm0341642  │\n",
       "│ tt22826768 ┆ null                ┆ null       │\n",
       "│ tt3812560  ┆ nm3777031           ┆ nm4303594  │\n",
       "└────────────┴─────────────────────┴────────────┘>"
      ]
     },
     "metadata": {},
     "output_type": "display_data"
    },
    {
     "name": "stdout",
     "output_type": "stream",
     "text": [
      "\n",
      "Table \"title.episode.tsv.gz\" has Rows_MLN = 8.6 and columns = 4 :\n",
      "\n",
      "Column \"tconst\" Type = \"String\" # Unique_MLN = 8.6 # Unique_pcts = 100.0% # Empty_pcts = 0.0% #  Prefix detected = tt # \n",
      "Column \"parentTconst\" Type = \"String\" # Unique_MLN = 0.2 # Unique_pcts = 2.0% # Empty_pcts = 0.0% #  Prefix detected = tt # \n",
      "Column \"seasonNumber\" Type = \"Int64\" # Unique_MLN = 0.0 # Unique_pcts = 0.0% # Empty_pcts = 20.0% # \n",
      "Column \"episodeNumber\" Type = \"Int64\" # Unique_MLN = 0.0 # Unique_pcts = 0.0% # Empty_pcts = 20.0% # \n",
      "Prefix detected : ['tt', 'tt']\n",
      "Primary Key is ['tconst'] has size_MLN [8.6]\n",
      "Foreign Key could be ['parentTconst'] has size_MLN [0.2]\n"
     ]
    },
    {
     "data": {
      "text/plain": [
       "<bound method DataFrame.transpose of shape: (6, 4)\n",
       "┌────────────┬──────────────┬──────────────┬───────────────┐\n",
       "│ tconst     ┆ parentTconst ┆ seasonNumber ┆ episodeNumber │\n",
       "│ ---        ┆ ---          ┆ ---          ┆ ---           │\n",
       "│ str        ┆ str          ┆ i64          ┆ i64           │\n",
       "╞════════════╪══════════════╪══════════════╪═══════════════╡\n",
       "│ tt7081622  ┆ tt0401933    ┆ 2            ┆ 146           │\n",
       "│ tt3981848  ┆ tt0092325    ┆ 1            ┆ 6884          │\n",
       "│ tt12319620 ┆ tt12276534   ┆ 1            ┆ 1362          │\n",
       "│ tt28359228 ┆ tt16741486   ┆ 2            ┆ 70            │\n",
       "│ tt4211016  ┆ tt4184496    ┆ 2            ┆ 2             │\n",
       "│ tt1923275  ┆ tt0161157    ┆ 1            ┆ 123           │\n",
       "└────────────┴──────────────┴──────────────┴───────────────┘>"
      ]
     },
     "metadata": {},
     "output_type": "display_data"
    },
    {
     "name": "stdout",
     "output_type": "stream",
     "text": [
      "\n",
      "Table \"title.principals.tsv.gz\" has Rows_MLN = 89.1 and columns = 6 :\n",
      "\n",
      "Column \"tconst\" Type = \"String\" # Unique_MLN = 10.2 # Unique_pcts = 11.0% # Empty_pcts = 0.0% #  Prefix detected = tt # \n",
      "Column \"ordering\" Type = \"Int64\" # Unique_MLN = 0.0 # Unique_pcts = 0.0% # Empty_pcts = 0.0% # \n",
      "Column \"nconst\" Type = \"String\" # Unique_MLN = 6.5 # Unique_pcts = 7.0% # Empty_pcts = 0.0% #  Prefix detected = nm # \n",
      "Column \"category\" Type = \"String\" # Unique_MLN = 0.0 # Unique_pcts = 0.0% # Empty_pcts = 0.0% # \n",
      "Column \"job\" Type = \"String\" # Unique_MLN = 0.0 # Unique_pcts = 0.0% # Empty_pcts = 81.0% # \n",
      "Column \"characters\" Type = \"String\" # Unique_MLN = 4.2 # Unique_pcts = 5.0% # Empty_pcts = 52.0% # \n",
      "Prefix detected : ['tt', 'nm']\n",
      "Primary Key is [] has size_MLN []\n",
      "Foreign Key could be ['tconst', 'nconst'] has size_MLN [10.2, 6.5]\n"
     ]
    },
    {
     "data": {
      "text/plain": [
       "<bound method DataFrame.transpose of shape: (6, 6)\n",
       "┌────────────┬──────────┬────────────┬──────────┬──────────┬────────────────┐\n",
       "│ tconst     ┆ ordering ┆ nconst     ┆ category ┆ job      ┆ characters     │\n",
       "│ ---        ┆ ---      ┆ ---        ┆ ---      ┆ ---      ┆ ---            │\n",
       "│ str        ┆ i64      ┆ str        ┆ str      ┆ str      ┆ str            │\n",
       "╞════════════╪══════════╪════════════╪══════════╪══════════╪════════════════╡\n",
       "│ tt1387328  ┆ 6        ┆ nm3351177  ┆ actor    ┆ null     ┆ [\"Bubba\"]      │\n",
       "│ tt1379127  ┆ 9        ┆ nm0587583  ┆ director ┆ null     ┆ null           │\n",
       "│ tt3497126  ┆ 3        ┆ nm6248991  ┆ producer ┆ producer ┆ null           │\n",
       "│ tt15286038 ┆ 4        ┆ nm12871918 ┆ self     ┆ null     ┆ [\"Themselves\"] │\n",
       "│ tt3822230  ┆ 6        ┆ nm5023462  ┆ self     ┆ null     ┆ [\"Self\"]       │\n",
       "│ tt12885744 ┆ 3        ┆ nm3046606  ┆ actress  ┆ null     ┆ null           │\n",
       "└────────────┴──────────┴────────────┴──────────┴──────────┴────────────────┘>"
      ]
     },
     "metadata": {},
     "output_type": "display_data"
    },
    {
     "name": "stdout",
     "output_type": "stream",
     "text": [
      "\n",
      "Table \"title.ratings.tsv.gz\" has Rows_MLN = 1.5 and columns = 3 :\n",
      "\n",
      "Column \"tconst\" Type = \"String\" # Unique_MLN = 1.5 # Unique_pcts = 100.0% # Empty_pcts = 0.0% #  Prefix detected = tt # \n",
      "Column \"averageRating\" Type = \"Float64\" # Unique_MLN = 0.0 # Unique_pcts = 0.0% # Empty_pcts = 0.0% # \n",
      "Column \"numVotes\" Type = \"Int64\" # Unique_MLN = 0.0 # Unique_pcts = 2.0% # Empty_pcts = 0.0% # \n",
      "Prefix detected : ['tt']\n",
      "Primary Key is ['tconst'] has size_MLN [1.5]\n",
      "Foreign Key could be [] has size_MLN []\n"
     ]
    },
    {
     "data": {
      "text/plain": [
       "<bound method DataFrame.transpose of shape: (6, 3)\n",
       "┌────────────┬───────────────┬──────────┐\n",
       "│ tconst     ┆ averageRating ┆ numVotes │\n",
       "│ ---        ┆ ---           ┆ ---      │\n",
       "│ str        ┆ f64           ┆ i64      │\n",
       "╞════════════╪═══════════════╪══════════╡\n",
       "│ tt19712048 ┆ 8.4           ┆ 26       │\n",
       "│ tt3253760  ┆ 8.0           ┆ 57       │\n",
       "│ tt15147826 ┆ 8.9           ┆ 19       │\n",
       "│ tt3982726  ┆ 7.9           ┆ 7        │\n",
       "│ tt13852664 ┆ 6.5           ┆ 64       │\n",
       "│ tt0333410  ┆ 7.1           ┆ 9        │\n",
       "└────────────┴───────────────┴──────────┘>"
      ]
     },
     "metadata": {},
     "output_type": "display_data"
    },
    {
     "name": "stdout",
     "output_type": "stream",
     "text": [
      "\n",
      "Table \"TMDB.csv\" has Rows_MLN = 0.3 and columns = 25 :\n",
      "\n",
      "Column \"adult\" Type = \"Boolean\" # Unique_MLN = 0.0 # Unique_pcts = 0.0% # Empty_pcts = 0.0% # \n",
      "Column \"backdrop_path\" Type = \"String\" # Unique_MLN = 0.2 # Unique_pcts = 49.0% # Empty_pcts = 51.0% # \n",
      "Column \"budget\" Type = \"Int64\" # Unique_MLN = 0.0 # Unique_pcts = 1.0% # Empty_pcts = 0.0% # \n",
      "Column \"genres\" Type = \"String\" # Unique_MLN = 0.0 # Unique_pcts = 3.0% # Empty_pcts = 0.0% # \n",
      "Column \"homepage\" Type = \"String\" # Unique_MLN = 0.0 # Unique_pcts = 14.0% # Empty_pcts = 86.0% #  Prefix detected = ht # \n",
      "Column \"id\" Type = \"Int64\" # Unique_MLN = 0.3 # Unique_pcts = 100.0% # Empty_pcts = 0.0% # \n",
      "Column \"imdb_id\" Type = \"String\" # Unique_MLN = 0.3 # Unique_pcts = 100.0% # Empty_pcts = 0.0% #  Prefix detected = tt # \n",
      "Column \"original_language\" Type = \"String\" # Unique_MLN = 0.0 # Unique_pcts = 0.0% # Empty_pcts = 0.0% # \n",
      "Column \"original_title\" Type = \"String\" # Unique_MLN = 0.3 # Unique_pcts = 92.0% # Empty_pcts = 0.0% # \n",
      "Column \"overview\" Type = \"String\" # Unique_MLN = 0.3 # Unique_pcts = 91.0% # Empty_pcts = 9.0% # \n",
      "Column \"popularity\" Type = \"Float64\" # Unique_MLN = 0.0 # Unique_pcts = 6.0% # Empty_pcts = 0.0% # \n",
      "Column \"poster_path\" Type = \"String\" # Unique_MLN = 0.3 # Unique_pcts = 85.0% # Empty_pcts = 15.0% # \n",
      "Column \"production_countries\" Type = \"String\" # Unique_MLN = 0.0 # Unique_pcts = 2.0% # Empty_pcts = 0.0% # \n",
      "Column \"release_date\" Type = \"String\" # Unique_MLN = 0.0 # Unique_pcts = 12.0% # Empty_pcts = 3.0% # \n",
      "Column \"revenue\" Type = \"Int64\" # Unique_MLN = 0.0 # Unique_pcts = 4.0% # Empty_pcts = 0.0% # \n",
      "Column \"runtime\" Type = \"Int64\" # Unique_MLN = 0.0 # Unique_pcts = 0.0% # Empty_pcts = 0.0% # \n",
      "Column \"spoken_languages\" Type = \"String\" # Unique_MLN = 0.0 # Unique_pcts = 2.0% # Empty_pcts = 0.0% # \n",
      "Column \"status\" Type = \"String\" # Unique_MLN = 0.0 # Unique_pcts = 0.0% # Empty_pcts = 0.0% # \n",
      "Column \"tagline\" Type = \"String\" # Unique_MLN = 0.1 # Unique_pcts = 24.0% # Empty_pcts = 76.0% # \n",
      "Column \"title\" Type = \"String\" # Unique_MLN = 0.3 # Unique_pcts = 88.0% # Empty_pcts = 0.0% # \n",
      "Column \"video\" Type = \"Boolean\" # Unique_MLN = 0.0 # Unique_pcts = 0.0% # Empty_pcts = 0.0% # \n",
      "Column \"vote_average\" Type = \"Float64\" # Unique_MLN = 0.0 # Unique_pcts = 2.0% # Empty_pcts = 0.0% # \n",
      "Column \"vote_count\" Type = \"Int64\" # Unique_MLN = 0.0 # Unique_pcts = 1.0% # Empty_pcts = 0.0% # \n",
      "Column \"production_companies_name\" Type = \"String\" # Unique_MLN = 0.1 # Unique_pcts = 36.0% # Empty_pcts = 0.0% # \n",
      "Column \"production_companies_country\" Type = \"String\" # Unique_MLN = 0.0 # Unique_pcts = 2.0% # Empty_pcts = 47.0% # \n",
      "Prefix detected : ['ht', 'tt']\n",
      "Primary Key is ['imdb_id'] has size_MLN [0.3]\n",
      "Foreign Key could be ['backdrop_path', 'poster_path'] has size_MLN [0.2, 0.3]\n"
     ]
    },
    {
     "data": {
      "text/plain": [
       "<bound method DataFrame.transpose of shape: (6, 25)\n",
       "┌───────┬────────────┬────────┬────────────┬───┬────────────┬────────────┬────────────┬────────────┐\n",
       "│ adult ┆ backdrop_p ┆ budget ┆ genres     ┆ … ┆ vote_avera ┆ vote_count ┆ production ┆ production │\n",
       "│ ---   ┆ ath        ┆ ---    ┆ ---        ┆   ┆ ge         ┆ ---        ┆ _companies ┆ _companies │\n",
       "│ bool  ┆ ---        ┆ i64    ┆ str        ┆   ┆ ---        ┆ i64        ┆ _name      ┆ _country   │\n",
       "│       ┆ str        ┆        ┆            ┆   ┆ f64        ┆            ┆ ---        ┆ ---        │\n",
       "│       ┆            ┆        ┆            ┆   ┆            ┆            ┆ str        ┆ str        │\n",
       "╞═══════╪════════════╪════════╪════════════╪═══╪════════════╪════════════╪════════════╪════════════╡\n",
       "│ false ┆ null       ┆ 0      ┆ ['Drama']  ┆ … ┆ 0.0        ┆ 0          ┆ []         ┆ []         │\n",
       "│ false ┆ /72q31NaxV ┆ 0      ┆ ['Family', ┆ … ┆ 5.475      ┆ 20         ┆ ['Walt     ┆ null       │\n",
       "│       ┆ 8x6mPbiYkC ┆        ┆ 'Animation ┆   ┆            ┆            ┆ Disney Pro ┆            │\n",
       "│       ┆ aKSN9Zyz.j ┆        ┆ ', 'Comed… ┆   ┆            ┆            ┆ ductions'] ┆            │\n",
       "│       ┆ …          ┆        ┆            ┆   ┆            ┆            ┆            ┆            │\n",
       "│ false ┆ /u49LQw75o ┆ 0      ┆ ['Drama']  ┆ … ┆ 5.7        ┆ 20         ┆ ['Tree     ┆ null       │\n",
       "│       ┆ ynfoiN1HyW ┆        ┆            ┆   ┆            ┆            ┆ Farm Produ ┆            │\n",
       "│       ┆ Guh78hs5.j ┆        ┆            ┆   ┆            ┆            ┆ ctions']   ┆            │\n",
       "│       ┆ …          ┆        ┆            ┆   ┆            ┆            ┆            ┆            │\n",
       "│ false ┆ /nsDbeL3iv ┆ 0      ┆ ['History' ┆ … ┆ 6.6        ┆ 14         ┆ ['Eros Wor ┆ ['']       │\n",
       "│       ┆ 6R5sYNQ19O ┆        ┆ , 'Drama'] ┆   ┆            ┆            ┆ ldwide']   ┆            │\n",
       "│       ┆ ShsunNaW.j ┆        ┆            ┆   ┆            ┆            ┆            ┆            │\n",
       "│       ┆ …          ┆        ┆            ┆   ┆            ┆            ┆            ┆            │\n",
       "│ false ┆ null       ┆ 0      ┆ ['Comedy'] ┆ … ┆ 5.0        ┆ 1          ┆ ['Keystone ┆ null       │\n",
       "│       ┆            ┆        ┆            ┆   ┆            ┆            ┆ Film       ┆            │\n",
       "│       ┆            ┆        ┆            ┆   ┆            ┆            ┆ Company']  ┆            │\n",
       "│ false ┆ null       ┆ 0      ┆ ['Drama',  ┆ … ┆ 0.0        ┆ 0          ┆ []         ┆ []         │\n",
       "│       ┆            ┆        ┆ 'Fantasy'] ┆   ┆            ┆            ┆            ┆            │\n",
       "└───────┴────────────┴────────┴────────────┴───┴────────────┴────────────┴────────────┴────────────┘>"
      ]
     },
     "metadata": {},
     "output_type": "display_data"
    }
   ],
   "source": [
    "infodict={}\n",
    "for tableid in tablelist:\n",
    "    print()\n",
    "    PKey=[]\n",
    "    PKeysize=[]\n",
    "    FKey=[]\n",
    "    FKeysize=[]\n",
    "    PKD=[]\n",
    "    FKD=[]\n",
    "    PFix=[]\n",
    "    if tableid[-3:]=='.gz':\n",
    "        dfl=pl.read_csv(tableid, separator=\"\\t\", quote_char=None, null_values=\"\\\\N\")\n",
    "    elif tableid[-3:]=='csv':\n",
    "        dfl=pl.read_csv(tableid, low_memory=False, ignore_errors=True, separator=\",\", truncate_ragged_lines=True)\n",
    "    type_dict={dfl.columns[i] : dfl.dtypes[i] for i in range(len(dfl.columns))}\n",
    "    print(f'Table \"{tableid}\" has Rows_MLN = {round(dfl.shape[0]/1000000,1)} and columns = {dfl.shape[1]} :\\n')\n",
    "    for ky, val in type_dict.items():\n",
    "        if True:\n",
    "            try :\n",
    "                space_contains = round(dfl[ky].str.split(by=\" \").map_elements(lambda x: len(x), return_dtype=pl.Int16).mean(),2)\n",
    "            except :\n",
    "                True\n",
    "            print(f'Column \"{ky}\" Type = \"{val}\" # ', end='')             \n",
    "            if ((str(val) == 'String') & (space_contains<1.01)):\n",
    "                dfl=dfl.with_columns_seq(pl.col(str(ky)).str.replace_all(r\"\\x5D|\\x5B|\\x22\",\"\"))\n",
    "                flag_explode = round(dfl[ky].str.split(by=\",\").map_elements(lambda x: len(x), return_dtype=pl.Int16).mean(),2)\n",
    "                if flag_explode>1.2:\n",
    "                    unique_explode=list(dfl.filter(pl.col(ky).is_not_null())[ky].explode().unique())\n",
    "                    prefix=dfl.filter(pl.col(ky).is_not_null())[ky].explode().unique().map_elements(lambda x: x[0:2], return_dtype=pl.String)\n",
    "                    print(f'/!\\ List detected with ratio {flag_explode*100}% /!\\ Unique_MLN = {round(len(unique_explode)/1000000,1)} # Unique_pcts = {round(len(unique_explode)/dfl.shape[0]*100,0)}% # Empty_pcts = {round(dfl[ky].is_null().mean()*100,0)}% # ', end='')\n",
    "                    if ((round(len(unique_explode)/1000000,1)>0.1) and ((round((len(unique_explode)/dfl.shape[0])*100,0)<101) ^ (round((len(unique_explode)/dfl.shape[0])*100,0)>99))):\n",
    "                        FKey.append(ky+'_exploded')\n",
    "                        FKeysize.append(round(len(unique_explode)/1000000,1))\n",
    "                        FFixD='_'\n",
    "                        if ((prefix.value_counts().sort(by='count', descending=True)[0,1]) > 0.95*prefix.count()):\n",
    "                            print(f\" Prefix detected = {prefix.value_counts().sort(by='count', descending=True)[0,0]} # \", end='')\n",
    "                            PFix.append(prefix.value_counts().sort(by='count', descending=True)[0,0])\n",
    "                            FFixD+=prefix.value_counts().sort(by='count', descending=True)[0,0]+'_'\n",
    "                        FKD.append(tableid+'_'+ky+'-exploded'+FFixD+str(round(len(unique_explode)/1000000,1)))\n",
    "                else:\n",
    "                    prefix=dfl.filter(pl.col(ky).is_not_null())[ky].map_elements(lambda x: x[0:2], return_dtype=pl.String)\n",
    "                    PFixD='_'\n",
    "                    FFixD='_'\n",
    "                    if round((len(dfl[ky].unique())/dfl.shape[0])*100,0)>99:\n",
    "                        PKey.append(ky)\n",
    "                        PKeysize.append(round(len(dfl[ky].unique())/1000000,1))\n",
    "                        if ((prefix.value_counts().sort(by='count', descending=True)[0,1]) > 0.95*prefix.count()):\n",
    "                            PFixD+=prefix.value_counts().sort(by='count', descending=True)[0,0]+'_'\n",
    "                        PKD.append(tableid+'_'+ky+PFixD+str(round(len(dfl[ky].unique())/1000000,1)))\n",
    "                    if ((round(len(dfl[ky].unique())/1000000,1)>0.1) and ((round((len(dfl[ky].unique())/dfl.shape[0])*100,0)<101) ^ (round((len(dfl[ky].unique()))/dfl.shape[0]*100,0)>99))):\n",
    "                        FKey.append(ky)\n",
    "                        FKeysize.append(round(len(dfl[ky].unique())/1000000,1))\n",
    "                        if ((prefix.value_counts().sort(by='count', descending=True)[0,1]) > 0.95*prefix.count()):\n",
    "                            FFixD+=prefix.value_counts().sort(by='count', descending=True)[0,0]+'_'\n",
    "                        FKD.append(tableid+'_'+ky+FFixD+str(round(len(dfl[ky].unique())/1000000,1)))\n",
    "                    print(f'Unique_MLN = {round(len(dfl[ky].unique())/1000000,1)} # Unique_pcts = {round(len(dfl[ky].unique())/dfl.shape[0]*100,0)}% # Empty_pcts = {round(dfl[ky].is_null().mean()*100,0)}% # ', end='')\n",
    "                    if ((prefix.value_counts().sort(by='count', descending=True)[0,1]) > 0.95*prefix.count()):\n",
    "                        print(f\" Prefix detected = {prefix.value_counts().sort(by='count', descending=True)[0,0]} # \", end='')\n",
    "                        PFix.append(prefix.value_counts().sort(by='count', descending=True)[0,0])\n",
    "            else:\n",
    "                print(f'Unique_MLN = {round(len(dfl[ky].unique())/1000000,1)} # Unique_pcts = {round(len(dfl[ky].unique())/dfl.shape[0]*100,0)}% # Empty_pcts = {round(dfl[ky].is_null().mean()*100,0)}% # ', end='')\n",
    "                \n",
    "            print()\n",
    "        # elif tableid[-3:]=='csv':\n",
    "        #     if str(val) == 'String':\n",
    "        #         dfl=dfl.with_columns_seq(pl.col(str(ky)).str.replace_all(r\"\\x5D|\\x5B|\\x22\",\"\"))\n",
    "        #     print(f'Colonne \"{ky}\" Type = \"{val}\" Unique_M = {round(len(dfl[ky].unique())/1000000,1)} Unique_pcts = {round(len(dfl[ky].unique())/len(dfl[ky])*100,0)}% Empty_pcts = {round(dfl[ky].is_null().mean()*100,0)}%', end='')\n",
    "        #     if str(val) == 'ing':\n",
    "        #         flag_explode = round(dfl[ky].str.split(by=\",\").map_elements(lambda x: len(x), return_dtype=pl.Int16).mean(),1)\n",
    "        #         print(f' List Length = {flag_explode}', end='')\n",
    "        #     else:\n",
    "        #         print()\n",
    "    print(f\"Prefix detected : {PFix}\")\n",
    "    print(f\"Primary Key is {PKey} has size_MLN {PKeysize}\")\n",
    "    print(f\"Foreign Key could be {FKey} has size_MLN {FKeysize}\")\n",
    "    display(dfl.sample(6).transpose)\n",
    "    infodict.update({tableid : {'name' : tableid, 'lines' : int(round(dfl.shape[0]/1000000,1)), 'cols' : dfl.shape[1], 'PKey' : { 'id' : PKey, 'Size' : PKeysize },  'FKey' : { 'id' : FKey, 'Size' : FKeysize }, 'PKD' : { 'id' : PKD }, 'FKD' : { 'id' : FKD }}})\n",
    "\n",
    "   "
   ]
  },
  {
   "cell_type": "code",
   "execution_count": 4,
   "metadata": {},
   "outputs": [
    {
     "data": {
      "text/plain": [
       "{'name.basics.tsv.gz': {'name': 'name.basics.tsv.gz',\n",
       "  'lines': 13,\n",
       "  'cols': 6,\n",
       "  'PKey': {'id': ['nconst'], 'Size': [13.9]},\n",
       "  'FKey': {'id': ['knownForTitles_exploded'], 'Size': [5.8]},\n",
       "  'PKD': {'id': ['name.basics.tsv.gz_nconst_nm_13.9']},\n",
       "  'FKD': {'id': ['name.basics.tsv.gz_knownForTitles-exploded_tt_5.8']}},\n",
       " 'title.akas.tsv.gz': {'name': 'title.akas.tsv.gz',\n",
       "  'lines': 50,\n",
       "  'cols': 8,\n",
       "  'PKey': {'id': [], 'Size': []},\n",
       "  'FKey': {'id': ['titleId'], 'Size': [11.2]},\n",
       "  'PKD': {'id': []},\n",
       "  'FKD': {'id': ['title.akas.tsv.gz_titleId_tt_11.2']}},\n",
       " 'title.basics.tsv.gz': {'name': 'title.basics.tsv.gz',\n",
       "  'lines': 11,\n",
       "  'cols': 9,\n",
       "  'PKey': {'id': ['tconst'], 'Size': [11.2]},\n",
       "  'FKey': {'id': [], 'Size': []},\n",
       "  'PKD': {'id': ['title.basics.tsv.gz_tconst_tt_11.2']},\n",
       "  'FKD': {'id': []}},\n",
       " 'title.crew.tsv.gz': {'name': 'title.crew.tsv.gz',\n",
       "  'lines': 10,\n",
       "  'cols': 3,\n",
       "  'PKey': {'id': ['tconst'], 'Size': [10.6]},\n",
       "  'FKey': {'id': ['directors_exploded', 'writers_exploded'],\n",
       "   'Size': [0.9, 1.4]},\n",
       "  'PKD': {'id': ['title.crew.tsv.gz_tconst_tt_10.6']},\n",
       "  'FKD': {'id': ['title.crew.tsv.gz_directors-exploded_nm_0.9',\n",
       "    'title.crew.tsv.gz_writers-exploded_nm_1.4']}},\n",
       " 'title.episode.tsv.gz': {'name': 'title.episode.tsv.gz',\n",
       "  'lines': 8,\n",
       "  'cols': 4,\n",
       "  'PKey': {'id': ['tconst'], 'Size': [8.6]},\n",
       "  'FKey': {'id': ['parentTconst'], 'Size': [0.2]},\n",
       "  'PKD': {'id': ['title.episode.tsv.gz_tconst_tt_8.6']},\n",
       "  'FKD': {'id': ['title.episode.tsv.gz_parentTconst_tt_0.2']}},\n",
       " 'title.principals.tsv.gz': {'name': 'title.principals.tsv.gz',\n",
       "  'lines': 89,\n",
       "  'cols': 6,\n",
       "  'PKey': {'id': [], 'Size': []},\n",
       "  'FKey': {'id': ['tconst', 'nconst'], 'Size': [10.2, 6.5]},\n",
       "  'PKD': {'id': []},\n",
       "  'FKD': {'id': ['title.principals.tsv.gz_tconst_tt_10.2',\n",
       "    'title.principals.tsv.gz_nconst_nm_6.5']}},\n",
       " 'title.ratings.tsv.gz': {'name': 'title.ratings.tsv.gz',\n",
       "  'lines': 1,\n",
       "  'cols': 3,\n",
       "  'PKey': {'id': ['tconst'], 'Size': [1.5]},\n",
       "  'FKey': {'id': [], 'Size': []},\n",
       "  'PKD': {'id': ['title.ratings.tsv.gz_tconst_tt_1.5']},\n",
       "  'FKD': {'id': []}},\n",
       " 'TMDB.csv': {'name': 'TMDB.csv',\n",
       "  'lines': 0,\n",
       "  'cols': 25,\n",
       "  'PKey': {'id': ['imdb_id'], 'Size': [0.3]},\n",
       "  'FKey': {'id': ['backdrop_path', 'poster_path'], 'Size': [0.2, 0.3]},\n",
       "  'PKD': {'id': ['TMDB.csv_imdb_id_tt_0.3']},\n",
       "  'FKD': {'id': ['TMDB.csv_backdrop_path_0.2', 'TMDB.csv_poster_path_0.3']}}}"
      ]
     },
     "execution_count": 4,
     "metadata": {},
     "output_type": "execute_result"
    }
   ],
   "source": [
    "infodict"
   ]
  },
  {
   "cell_type": "code",
   "execution_count": 5,
   "metadata": {},
   "outputs": [
    {
     "name": "stdout",
     "output_type": "stream",
     "text": [
      "name.basics.tsv.gz\n",
      "name\n",
      "lines\n",
      "cols\n",
      "PKey\n",
      "FKey\n",
      "PKD\n",
      "FKD\n",
      "title.akas.tsv.gz\n",
      "name\n",
      "lines\n",
      "cols\n",
      "PKey\n",
      "FKey\n",
      "PKD\n",
      "FKD\n",
      "title.basics.tsv.gz\n",
      "name\n",
      "lines\n",
      "cols\n",
      "PKey\n",
      "FKey\n",
      "PKD\n",
      "FKD\n",
      "title.crew.tsv.gz\n",
      "name\n",
      "lines\n",
      "cols\n",
      "PKey\n",
      "FKey\n",
      "PKD\n",
      "FKD\n",
      "title.episode.tsv.gz\n",
      "name\n",
      "lines\n",
      "cols\n",
      "PKey\n",
      "FKey\n",
      "PKD\n",
      "FKD\n",
      "title.principals.tsv.gz\n",
      "name\n",
      "lines\n",
      "cols\n",
      "PKey\n",
      "FKey\n",
      "PKD\n",
      "FKD\n",
      "title.ratings.tsv.gz\n",
      "name\n",
      "lines\n",
      "cols\n",
      "PKey\n",
      "FKey\n",
      "PKD\n",
      "FKD\n",
      "TMDB.csv\n",
      "name\n",
      "lines\n",
      "cols\n",
      "PKey\n",
      "FKey\n",
      "PKD\n",
      "FKD\n"
     ]
    }
   ],
   "source": [
    "for ky in infodict.keys():\n",
    "    print(ky)\n",
    "    for kyy in infodict[ky]:\n",
    "        print(kyy)"
   ]
  },
  {
   "cell_type": "code",
   "execution_count": 6,
   "metadata": {},
   "outputs": [
    {
     "name": "stdout",
     "output_type": "stream",
     "text": [
      "['name.basics.tsv.gz_nconst_nm_13.9']\n",
      "['name.basics.tsv.gz_knownForTitles-exploded_tt_5.8']\n",
      "[]\n",
      "['title.akas.tsv.gz_titleId_tt_11.2']\n",
      "['title.basics.tsv.gz_tconst_tt_11.2']\n",
      "[]\n",
      "['title.crew.tsv.gz_tconst_tt_10.6']\n",
      "['title.crew.tsv.gz_directors-exploded_nm_0.9', 'title.crew.tsv.gz_writers-exploded_nm_1.4']\n",
      "['title.episode.tsv.gz_tconst_tt_8.6']\n",
      "['title.episode.tsv.gz_parentTconst_tt_0.2']\n",
      "[]\n",
      "['title.principals.tsv.gz_tconst_tt_10.2', 'title.principals.tsv.gz_nconst_nm_6.5']\n",
      "['title.ratings.tsv.gz_tconst_tt_1.5']\n",
      "[]\n",
      "['TMDB.csv_imdb_id_tt_0.3']\n",
      "['TMDB.csv_backdrop_path_0.2', 'TMDB.csv_poster_path_0.3']\n"
     ]
    }
   ],
   "source": [
    "pkdlook=[]\n",
    "fkdlook=[]\n",
    "for ky in infodict.keys():\n",
    "    print(infodict[ky]['PKD']['id'])\n",
    "    print(infodict[ky]['FKD']['id'])\n",
    "    for kky in infodict[ky]['PKD']['id']:\n",
    "        pkdlook.append(infodict[ky]['PKD']['id'])\n",
    "    for kky in infodict[ky]['FKD']['id']:\n",
    "        fkdlook.append(infodict[ky]['FKD']['id'])\n"
   ]
  },
  {
   "cell_type": "code",
   "execution_count": 7,
   "metadata": {},
   "outputs": [
    {
     "data": {
      "text/plain": [
       "[['name.basics.tsv.gz_nconst_nm_13.9'],\n",
       " ['title.basics.tsv.gz_tconst_tt_11.2'],\n",
       " ['title.crew.tsv.gz_tconst_tt_10.6'],\n",
       " ['title.episode.tsv.gz_tconst_tt_8.6'],\n",
       " ['title.ratings.tsv.gz_tconst_tt_1.5'],\n",
       " ['TMDB.csv_imdb_id_tt_0.3']]"
      ]
     },
     "execution_count": 7,
     "metadata": {},
     "output_type": "execute_result"
    }
   ],
   "source": [
    "pkdlook"
   ]
  },
  {
   "cell_type": "code",
   "execution_count": 8,
   "metadata": {},
   "outputs": [
    {
     "data": {
      "text/plain": [
       "6"
      ]
     },
     "execution_count": 8,
     "metadata": {},
     "output_type": "execute_result"
    }
   ],
   "source": [
    "len(pkdlook)"
   ]
  },
  {
   "cell_type": "code",
   "execution_count": 9,
   "metadata": {},
   "outputs": [
    {
     "data": {
      "text/plain": [
       "['title.basics.tsv.gz', 'tconst', 'tt', '11.2']"
      ]
     },
     "execution_count": 9,
     "metadata": {},
     "output_type": "execute_result"
    }
   ],
   "source": [
    "pkdlook[1][0].split(\"_\")"
   ]
  },
  {
   "cell_type": "code",
   "execution_count": 10,
   "metadata": {},
   "outputs": [
    {
     "data": {
      "text/plain": [
       "'nm'"
      ]
     },
     "execution_count": 10,
     "metadata": {},
     "output_type": "execute_result"
    }
   ],
   "source": [
    "pkdlook[0][0].split(\"_\")[2]"
   ]
  },
  {
   "cell_type": "code",
   "execution_count": 11,
   "metadata": {},
   "outputs": [
    {
     "data": {
      "text/plain": [
       "[['name.basics.tsv.gz_nconst_nm_13.9'],\n",
       " ['title.basics.tsv.gz_tconst_tt_11.2'],\n",
       " ['title.crew.tsv.gz_tconst_tt_10.6'],\n",
       " ['title.episode.tsv.gz_tconst_tt_8.6'],\n",
       " ['title.ratings.tsv.gz_tconst_tt_1.5'],\n",
       " ['TMDB.csv_imdb_id_tt_0.3']]"
      ]
     },
     "execution_count": 11,
     "metadata": {},
     "output_type": "execute_result"
    }
   ],
   "source": [
    "pkdlook"
   ]
  },
  {
   "cell_type": "code",
   "execution_count": 12,
   "metadata": {},
   "outputs": [],
   "source": [
    "pkfixlist=[]\n",
    "for loop in range(len(pkdlook)):\n",
    "    if pkdlook[loop][0].split(\"_\")[-2] in pkfixlist:\n",
    "        True\n",
    "    else:\n",
    "        pkfixlist.append(pkdlook[loop][0].split(\"_\")[-2])"
   ]
  },
  {
   "cell_type": "code",
   "execution_count": 13,
   "metadata": {},
   "outputs": [
    {
     "data": {
      "text/plain": [
       "['nm', 'tt']"
      ]
     },
     "execution_count": 13,
     "metadata": {},
     "output_type": "execute_result"
    }
   ],
   "source": [
    "pkfixlist"
   ]
  },
  {
   "cell_type": "code",
   "execution_count": 16,
   "metadata": {},
   "outputs": [
    {
     "data": {
      "text/plain": [
       "'title.basics.tsv.gz_tconst_tt_11.2'"
      ]
     },
     "execution_count": 16,
     "metadata": {},
     "output_type": "execute_result"
    }
   ],
   "source": [
    "pkdlook[1][0]"
   ]
  },
  {
   "cell_type": "code",
   "execution_count": 17,
   "metadata": {},
   "outputs": [],
   "source": [
    "ppfixfinal=[]\n",
    "for ppfix in pkfixlist:\n",
    "    countmax=-1.0\n",
    "    indexmax=-1.0\n",
    "    for loop in range(len(pkdlook)):\n",
    "        if pkdlook[loop][0].split(\"_\")[-2]==ppfix:\n",
    "            if (float(pkdlook[loop][0].split(\"_\")[-1])>float(countmax)):\n",
    "                countmax=float(pkdlook[loop][0].split(\"_\")[-1])\n",
    "                pfixmax=loop\n",
    "    ppfixfinal.append(pkdlook[pfixmax][0])"
   ]
  },
  {
   "cell_type": "code",
   "execution_count": 18,
   "metadata": {},
   "outputs": [
    {
     "data": {
      "text/plain": [
       "['name.basics.tsv.gz_nconst_nm_13.9', 'title.basics.tsv.gz_tconst_tt_11.2']"
      ]
     },
     "execution_count": 18,
     "metadata": {},
     "output_type": "execute_result"
    }
   ],
   "source": [
    "ppfixfinal"
   ]
  },
  {
   "cell_type": "code",
   "execution_count": 19,
   "metadata": {},
   "outputs": [
    {
     "data": {
      "text/plain": [
       "6"
      ]
     },
     "execution_count": 19,
     "metadata": {},
     "output_type": "execute_result"
    }
   ],
   "source": [
    "len(pkdlook)"
   ]
  },
  {
   "cell_type": "code",
   "execution_count": 20,
   "metadata": {},
   "outputs": [],
   "source": [
    "from itertools import chain\n",
    "fffixfinal=list(chain.from_iterable(fkdlook))"
   ]
  },
  {
   "cell_type": "code",
   "execution_count": 21,
   "metadata": {},
   "outputs": [],
   "source": [
    "for pfix in list(chain.from_iterable(pkdlook)):\n",
    "    if pfix in ppfixfinal:\n",
    "        True\n",
    "    else:\n",
    "        fffixfinal.append(pfix)"
   ]
  },
  {
   "cell_type": "code",
   "execution_count": 22,
   "metadata": {},
   "outputs": [
    {
     "data": {
      "text/plain": [
       "['name.basics.tsv.gz_nconst_nm_13.9', 'title.basics.tsv.gz_tconst_tt_11.2']"
      ]
     },
     "execution_count": 22,
     "metadata": {},
     "output_type": "execute_result"
    }
   ],
   "source": [
    "ppfixfinal"
   ]
  },
  {
   "cell_type": "code",
   "execution_count": 23,
   "metadata": {},
   "outputs": [
    {
     "data": {
      "text/plain": [
       "['name.basics.tsv.gz_knownForTitles-exploded_tt_5.8',\n",
       " 'title.akas.tsv.gz_titleId_tt_11.2',\n",
       " 'title.crew.tsv.gz_directors-exploded_nm_0.9',\n",
       " 'title.crew.tsv.gz_writers-exploded_nm_1.4',\n",
       " 'title.crew.tsv.gz_directors-exploded_nm_0.9',\n",
       " 'title.crew.tsv.gz_writers-exploded_nm_1.4',\n",
       " 'title.episode.tsv.gz_parentTconst_tt_0.2',\n",
       " 'title.principals.tsv.gz_tconst_tt_10.2',\n",
       " 'title.principals.tsv.gz_nconst_nm_6.5',\n",
       " 'title.principals.tsv.gz_tconst_tt_10.2',\n",
       " 'title.principals.tsv.gz_nconst_nm_6.5',\n",
       " 'TMDB.csv_backdrop_path_0.2',\n",
       " 'TMDB.csv_poster_path_0.3',\n",
       " 'TMDB.csv_backdrop_path_0.2',\n",
       " 'TMDB.csv_poster_path_0.3',\n",
       " 'title.crew.tsv.gz_tconst_tt_10.6',\n",
       " 'title.episode.tsv.gz_tconst_tt_8.6',\n",
       " 'title.ratings.tsv.gz_tconst_tt_1.5',\n",
       " 'TMDB.csv_imdb_id_tt_0.3']"
      ]
     },
     "execution_count": 23,
     "metadata": {},
     "output_type": "execute_result"
    }
   ],
   "source": [
    "fffixfinal"
   ]
  },
  {
   "cell_type": "code",
   "execution_count": 24,
   "metadata": {},
   "outputs": [],
   "source": [
    "fffixfinal=list(dict.fromkeys(fffixfinal))"
   ]
  },
  {
   "cell_type": "code",
   "execution_count": 25,
   "metadata": {},
   "outputs": [],
   "source": [
    "ffindextable=[]\n",
    "ffindexcol=[]\n",
    "ffffixfinal=[]\n",
    "for fffix in fffixfinal:\n",
    "    if fffix.split(\"_\")[-2] in pkfixlist:\n",
    "        ffindextable.append(fffix.split(\"_\")[0])\n",
    "        ffindexcol.append(fffix.split(\"_\")[1])\n",
    "        ffffixfinal.append(fffix)\n",
    "\n",
    "\n"
   ]
  },
  {
   "cell_type": "code",
   "execution_count": 26,
   "metadata": {},
   "outputs": [],
   "source": [
    "for ppfix in ppfixfinal[0:1]:\n",
    "    nmtable=[]\n",
    "    for fffix in ffffixfinal:\n",
    "        if (ppfix.split(\"_\")[-2]==fffix.split(\"_\")[-2]):\n",
    "            nmtable.append(str(round(100*float(fffix.split(\"_\")[-1])/float(ppfix.split(\"_\")[-1])))+'%')\n",
    "        else:\n",
    "            nmtable.append(np.nan)"
   ]
  },
  {
   "cell_type": "code",
   "execution_count": 27,
   "metadata": {},
   "outputs": [],
   "source": [
    "for ppfix in ppfixfinal[1:2]:\n",
    "    tttable=[]\n",
    "    for fffix in ffffixfinal:\n",
    "        if (ppfix.split(\"_\")[-2]==fffix.split(\"_\")[-2]):\n",
    "            tttable.append(str(round(100*float(fffix.split(\"_\")[-1])/float(ppfix.split(\"_\")[-1])))+'%')\n",
    "        else:\n",
    "            tttable.append(np.nan)"
   ]
  },
  {
   "cell_type": "code",
   "execution_count": 30,
   "metadata": {},
   "outputs": [],
   "source": [
    "import pandas as pd"
   ]
  },
  {
   "cell_type": "code",
   "execution_count": 31,
   "metadata": {},
   "outputs": [],
   "source": [
    "dfnm=pd.DataFrame(data=nmtable, index=pd.MultiIndex.from_arrays([ffindextable, ffindexcol], names=('table', 'column')), columns=['Name'])\n",
    "dftt=pd.DataFrame(data=tttable, index=pd.MultiIndex.from_arrays([ffindextable, ffindexcol], names=('table', 'column')), columns=['Movie'])"
   ]
  },
  {
   "cell_type": "code",
   "execution_count": 32,
   "metadata": {},
   "outputs": [],
   "source": [
    "df_index=pd.concat([dftt, dfnm], axis=1)"
   ]
  },
  {
   "cell_type": "markdown",
   "metadata": {},
   "source": [
    "# Structure finale"
   ]
  },
  {
   "cell_type": "code",
   "execution_count": 33,
   "metadata": {},
   "outputs": [
    {
     "data": {
      "text/html": [
       "<div>\n",
       "<style scoped>\n",
       "    .dataframe tbody tr th:only-of-type {\n",
       "        vertical-align: middle;\n",
       "    }\n",
       "\n",
       "    .dataframe tbody tr th {\n",
       "        vertical-align: top;\n",
       "    }\n",
       "\n",
       "    .dataframe thead th {\n",
       "        text-align: right;\n",
       "    }\n",
       "</style>\n",
       "<table border=\"1\" class=\"dataframe\">\n",
       "  <thead>\n",
       "    <tr style=\"text-align: right;\">\n",
       "      <th></th>\n",
       "      <th></th>\n",
       "      <th>Movie</th>\n",
       "      <th>Name</th>\n",
       "    </tr>\n",
       "    <tr>\n",
       "      <th>table</th>\n",
       "      <th>column</th>\n",
       "      <th></th>\n",
       "      <th></th>\n",
       "    </tr>\n",
       "  </thead>\n",
       "  <tbody>\n",
       "    <tr>\n",
       "      <th>TMDB.csv</th>\n",
       "      <th>imdb</th>\n",
       "      <td>3%</td>\n",
       "      <td>NaN</td>\n",
       "    </tr>\n",
       "    <tr>\n",
       "      <th>name.basics.tsv.gz</th>\n",
       "      <th>knownForTitles-exploded</th>\n",
       "      <td>52%</td>\n",
       "      <td>NaN</td>\n",
       "    </tr>\n",
       "    <tr>\n",
       "      <th>title.akas.tsv.gz</th>\n",
       "      <th>titleId</th>\n",
       "      <td>100%</td>\n",
       "      <td>NaN</td>\n",
       "    </tr>\n",
       "    <tr>\n",
       "      <th rowspan=\"3\" valign=\"top\">title.crew.tsv.gz</th>\n",
       "      <th>directors-exploded</th>\n",
       "      <td>NaN</td>\n",
       "      <td>6%</td>\n",
       "    </tr>\n",
       "    <tr>\n",
       "      <th>tconst</th>\n",
       "      <td>95%</td>\n",
       "      <td>NaN</td>\n",
       "    </tr>\n",
       "    <tr>\n",
       "      <th>writers-exploded</th>\n",
       "      <td>NaN</td>\n",
       "      <td>10%</td>\n",
       "    </tr>\n",
       "    <tr>\n",
       "      <th rowspan=\"2\" valign=\"top\">title.episode.tsv.gz</th>\n",
       "      <th>parentTconst</th>\n",
       "      <td>2%</td>\n",
       "      <td>NaN</td>\n",
       "    </tr>\n",
       "    <tr>\n",
       "      <th>tconst</th>\n",
       "      <td>77%</td>\n",
       "      <td>NaN</td>\n",
       "    </tr>\n",
       "    <tr>\n",
       "      <th rowspan=\"2\" valign=\"top\">title.principals.tsv.gz</th>\n",
       "      <th>nconst</th>\n",
       "      <td>NaN</td>\n",
       "      <td>47%</td>\n",
       "    </tr>\n",
       "    <tr>\n",
       "      <th>tconst</th>\n",
       "      <td>91%</td>\n",
       "      <td>NaN</td>\n",
       "    </tr>\n",
       "    <tr>\n",
       "      <th>title.ratings.tsv.gz</th>\n",
       "      <th>tconst</th>\n",
       "      <td>13%</td>\n",
       "      <td>NaN</td>\n",
       "    </tr>\n",
       "  </tbody>\n",
       "</table>\n",
       "</div>"
      ],
      "text/plain": [
       "                                                Movie Name\n",
       "table                   column                            \n",
       "TMDB.csv                imdb                       3%  NaN\n",
       "name.basics.tsv.gz      knownForTitles-exploded   52%  NaN\n",
       "title.akas.tsv.gz       titleId                  100%  NaN\n",
       "title.crew.tsv.gz       directors-exploded        NaN   6%\n",
       "                        tconst                    95%  NaN\n",
       "                        writers-exploded          NaN  10%\n",
       "title.episode.tsv.gz    parentTconst               2%  NaN\n",
       "                        tconst                    77%  NaN\n",
       "title.principals.tsv.gz nconst                    NaN  47%\n",
       "                        tconst                    91%  NaN\n",
       "title.ratings.tsv.gz    tconst                    13%  NaN"
      ]
     },
     "metadata": {},
     "output_type": "display_data"
    }
   ],
   "source": [
    "display(df_index.sort_index())"
   ]
  },
  {
   "cell_type": "code",
   "execution_count": 34,
   "metadata": {},
   "outputs": [
    {
     "data": {
      "text/html": [
       "<div>\n",
       "<style scoped>\n",
       "    .dataframe tbody tr th:only-of-type {\n",
       "        vertical-align: middle;\n",
       "    }\n",
       "\n",
       "    .dataframe tbody tr th {\n",
       "        vertical-align: top;\n",
       "    }\n",
       "\n",
       "    .dataframe thead tr th {\n",
       "        text-align: left;\n",
       "    }\n",
       "</style>\n",
       "<table border=\"1\" class=\"dataframe\">\n",
       "  <thead>\n",
       "    <tr>\n",
       "      <th>table</th>\n",
       "      <th>TMDB.csv</th>\n",
       "      <th>name.basics.tsv.gz</th>\n",
       "      <th>title.akas.tsv.gz</th>\n",
       "      <th colspan=\"3\" halign=\"left\">title.crew.tsv.gz</th>\n",
       "      <th colspan=\"2\" halign=\"left\">title.episode.tsv.gz</th>\n",
       "      <th colspan=\"2\" halign=\"left\">title.principals.tsv.gz</th>\n",
       "      <th>title.ratings.tsv.gz</th>\n",
       "    </tr>\n",
       "    <tr>\n",
       "      <th>column</th>\n",
       "      <th>imdb</th>\n",
       "      <th>knownForTitles-exploded</th>\n",
       "      <th>titleId</th>\n",
       "      <th>directors-exploded</th>\n",
       "      <th>tconst</th>\n",
       "      <th>writers-exploded</th>\n",
       "      <th>parentTconst</th>\n",
       "      <th>tconst</th>\n",
       "      <th>nconst</th>\n",
       "      <th>tconst</th>\n",
       "      <th>tconst</th>\n",
       "    </tr>\n",
       "  </thead>\n",
       "  <tbody>\n",
       "    <tr>\n",
       "      <th>Movie</th>\n",
       "      <td>3%</td>\n",
       "      <td>52%</td>\n",
       "      <td>100%</td>\n",
       "      <td>NaN</td>\n",
       "      <td>95%</td>\n",
       "      <td>NaN</td>\n",
       "      <td>2%</td>\n",
       "      <td>77%</td>\n",
       "      <td>NaN</td>\n",
       "      <td>91%</td>\n",
       "      <td>13%</td>\n",
       "    </tr>\n",
       "    <tr>\n",
       "      <th>Name</th>\n",
       "      <td>NaN</td>\n",
       "      <td>NaN</td>\n",
       "      <td>NaN</td>\n",
       "      <td>6%</td>\n",
       "      <td>NaN</td>\n",
       "      <td>10%</td>\n",
       "      <td>NaN</td>\n",
       "      <td>NaN</td>\n",
       "      <td>47%</td>\n",
       "      <td>NaN</td>\n",
       "      <td>NaN</td>\n",
       "    </tr>\n",
       "  </tbody>\n",
       "</table>\n",
       "</div>"
      ],
      "text/plain": [
       "table  TMDB.csv      name.basics.tsv.gz title.akas.tsv.gz  title.crew.tsv.gz  \\\n",
       "column     imdb knownForTitles-exploded           titleId directors-exploded   \n",
       "Movie        3%                     52%              100%                NaN   \n",
       "Name        NaN                     NaN               NaN                 6%   \n",
       "\n",
       "table                          title.episode.tsv.gz         \\\n",
       "column tconst writers-exploded         parentTconst tconst   \n",
       "Movie     95%              NaN                   2%    77%   \n",
       "Name      NaN              10%                  NaN    NaN   \n",
       "\n",
       "table  title.principals.tsv.gz        title.ratings.tsv.gz  \n",
       "column                  nconst tconst               tconst  \n",
       "Movie                      NaN    91%                  13%  \n",
       "Name                       47%    NaN                  NaN  "
      ]
     },
     "execution_count": 34,
     "metadata": {},
     "output_type": "execute_result"
    }
   ],
   "source": [
    "df_index.sort_index().transpose()"
   ]
  },
  {
   "cell_type": "code",
   "execution_count": 36,
   "metadata": {},
   "outputs": [
    {
     "data": {
      "text/plain": [
       "[['name.basics.tsv.gz_knownForTitles-exploded_tt_5.8'],\n",
       " ['title.akas.tsv.gz_titleId_tt_11.2'],\n",
       " ['title.crew.tsv.gz_directors-exploded_nm_0.9',\n",
       "  'title.crew.tsv.gz_writers-exploded_nm_1.4'],\n",
       " ['title.crew.tsv.gz_directors-exploded_nm_0.9',\n",
       "  'title.crew.tsv.gz_writers-exploded_nm_1.4'],\n",
       " ['title.episode.tsv.gz_parentTconst_tt_0.2'],\n",
       " ['title.principals.tsv.gz_tconst_tt_10.2',\n",
       "  'title.principals.tsv.gz_nconst_nm_6.5'],\n",
       " ['title.principals.tsv.gz_tconst_tt_10.2',\n",
       "  'title.principals.tsv.gz_nconst_nm_6.5'],\n",
       " ['TMDB.csv_backdrop_path_0.2', 'TMDB.csv_poster_path_0.3'],\n",
       " ['TMDB.csv_backdrop_path_0.2', 'TMDB.csv_poster_path_0.3']]"
      ]
     },
     "execution_count": 36,
     "metadata": {},
     "output_type": "execute_result"
    }
   ],
   "source": [
    "fkdlook"
   ]
  },
  {
   "cell_type": "code",
   "execution_count": 37,
   "metadata": {},
   "outputs": [
    {
     "data": {
      "text/plain": [
       "<function len(obj, /)>"
      ]
     },
     "execution_count": 37,
     "metadata": {},
     "output_type": "execute_result"
    }
   ],
   "source": [
    "len"
   ]
  },
  {
   "cell_type": "code",
   "execution_count": 38,
   "metadata": {},
   "outputs": [
    {
     "data": {
      "text/plain": [
       "['name.basics.tsv.gz_nconst_nm_13.9']"
      ]
     },
     "execution_count": 38,
     "metadata": {},
     "output_type": "execute_result"
    }
   ],
   "source": [
    "pkdlook[0]"
   ]
  },
  {
   "cell_type": "code",
   "execution_count": 39,
   "metadata": {},
   "outputs": [
    {
     "data": {
      "text/plain": [
       "[['name.basics.tsv.gz_knownForTitles-exploded_tt_5.8'],\n",
       " ['title.akas.tsv.gz_titleId_tt_11.2'],\n",
       " ['title.crew.tsv.gz_directors-exploded_nm_0.9',\n",
       "  'title.crew.tsv.gz_writers-exploded_nm_1.4'],\n",
       " ['title.crew.tsv.gz_directors-exploded_nm_0.9',\n",
       "  'title.crew.tsv.gz_writers-exploded_nm_1.4'],\n",
       " ['title.episode.tsv.gz_parentTconst_tt_0.2'],\n",
       " ['title.principals.tsv.gz_tconst_tt_10.2',\n",
       "  'title.principals.tsv.gz_nconst_nm_6.5'],\n",
       " ['title.principals.tsv.gz_tconst_tt_10.2',\n",
       "  'title.principals.tsv.gz_nconst_nm_6.5'],\n",
       " ['TMDB.csv_backdrop_path_0.2', 'TMDB.csv_poster_path_0.3'],\n",
       " ['TMDB.csv_backdrop_path_0.2', 'TMDB.csv_poster_path_0.3']]"
      ]
     },
     "execution_count": 39,
     "metadata": {},
     "output_type": "execute_result"
    }
   ],
   "source": [
    "fkdlook"
   ]
  },
  {
   "cell_type": "code",
   "execution_count": 40,
   "metadata": {},
   "outputs": [
    {
     "data": {
      "text/plain": [
       "'title.akas.tsv.gz_titleId_tt_11.2'"
      ]
     },
     "execution_count": 40,
     "metadata": {},
     "output_type": "execute_result"
    }
   ],
   "source": [
    "fkdlook[1][0]"
   ]
  },
  {
   "cell_type": "code",
   "execution_count": 41,
   "metadata": {},
   "outputs": [
    {
     "name": "stdout",
     "output_type": "stream",
     "text": [
      "Matching of Primary Key name.basics.tsv.gz_nconst_nm_13.9\n",
      " PKey nconst from name.basics.tsv.gz has same prefix \"nm\" than FKey directors-exploded from title.crew.tsv.gz\n",
      " PKey nconst from name.basics.tsv.gz has same prefix \"nm\" than FKey directors-exploded from title.crew.tsv.gz\n",
      "Matching of Primary Key title.basics.tsv.gz_tconst_tt_11.2\n",
      " PKey tconst from title.basics.tsv.gz has same prefix \"tt\" than FKey knownForTitles-exploded from name.basics.tsv.gz\n",
      " PKey tconst from title.basics.tsv.gz has same prefix \"tt\" than FKey titleId from title.akas.tsv.gz\n",
      " PKey tconst from title.basics.tsv.gz has same size than FKey titleId from title.akas.tsv.gz\n",
      " PKey tconst from title.basics.tsv.gz has same prefix \"tt\" than FKey parentTconst from title.episode.tsv.gz\n",
      " PKey tconst from title.basics.tsv.gz has same prefix \"tt\" than FKey tconst from title.principals.tsv.gz\n",
      " PKey tconst from title.basics.tsv.gz has close size with FKey tconst from title.principals.tsv.gz Deltasize_MLN =1.0\n",
      " PKey tconst from title.basics.tsv.gz has same prefix \"tt\" than FKey tconst from title.principals.tsv.gz\n",
      " PKey tconst from title.basics.tsv.gz has close size with FKey tconst from title.principals.tsv.gz Deltasize_MLN =1.0\n",
      "Matching of Primary Key title.crew.tsv.gz_tconst_tt_10.6\n",
      " PKey tconst from title.crew.tsv.gz has same prefix \"tt\" than FKey knownForTitles-exploded from name.basics.tsv.gz\n",
      " PKey tconst from title.crew.tsv.gz has same prefix \"tt\" than FKey titleId from title.akas.tsv.gz\n",
      " PKey tconst from title.crew.tsv.gz has close size with FKey titleId from title.akas.tsv.gz Deltasize_MLN =0.6\n",
      " PKey tconst from title.crew.tsv.gz has same prefix \"tt\" than FKey parentTconst from title.episode.tsv.gz\n",
      " PKey tconst from title.crew.tsv.gz has same prefix \"tt\" than FKey tconst from title.principals.tsv.gz\n",
      " PKey tconst from title.crew.tsv.gz has close size with FKey tconst from title.principals.tsv.gz Deltasize_MLN =0.4\n",
      " PKey tconst from title.crew.tsv.gz has same prefix \"tt\" than FKey tconst from title.principals.tsv.gz\n",
      " PKey tconst from title.crew.tsv.gz has close size with FKey tconst from title.principals.tsv.gz Deltasize_MLN =0.4\n",
      "Matching of Primary Key title.episode.tsv.gz_tconst_tt_8.6\n",
      " PKey tconst from title.episode.tsv.gz has same prefix \"tt\" than FKey knownForTitles-exploded from name.basics.tsv.gz\n",
      " PKey tconst from title.episode.tsv.gz has same prefix \"tt\" than FKey titleId from title.akas.tsv.gz\n",
      " PKey tconst from title.episode.tsv.gz has same prefix \"tt\" than FKey parentTconst from title.episode.tsv.gz\n",
      " PKey tconst from title.episode.tsv.gz has same prefix \"tt\" than FKey tconst from title.principals.tsv.gz\n",
      " PKey tconst from title.episode.tsv.gz has same prefix \"tt\" than FKey tconst from title.principals.tsv.gz\n",
      "Matching of Primary Key title.ratings.tsv.gz_tconst_tt_1.5\n",
      " PKey tconst from title.ratings.tsv.gz has same prefix \"tt\" than FKey knownForTitles-exploded from name.basics.tsv.gz\n",
      " PKey tconst from title.ratings.tsv.gz has same prefix \"tt\" than FKey titleId from title.akas.tsv.gz\n",
      " PKey tconst from title.ratings.tsv.gz has same prefix \"tt\" than FKey parentTconst from title.episode.tsv.gz\n",
      " PKey tconst from title.ratings.tsv.gz has same prefix \"tt\" than FKey tconst from title.principals.tsv.gz\n",
      " PKey tconst from title.ratings.tsv.gz has same prefix \"tt\" than FKey tconst from title.principals.tsv.gz\n",
      "Matching of Primary Key TMDB.csv_imdb_id_tt_0.3\n",
      " PKey imdb from TMDB.csv has same prefix \"tt\" than FKey knownForTitles-exploded from name.basics.tsv.gz\n",
      " PKey imdb from TMDB.csv has same prefix \"tt\" than FKey titleId from title.akas.tsv.gz\n",
      " PKey imdb from TMDB.csv has same prefix \"tt\" than FKey parentTconst from title.episode.tsv.gz\n",
      " PKey imdb from TMDB.csv has same prefix \"tt\" than FKey tconst from title.principals.tsv.gz\n",
      " PKey imdb from TMDB.csv has same prefix \"tt\" than FKey tconst from title.principals.tsv.gz\n"
     ]
    }
   ],
   "source": [
    "for loop in range(len(pkdlook)):\n",
    "    print(f'Matching of Primary Key {pkdlook[loop][0]}')\n",
    "    for loop2 in range (len(fkdlook)):\n",
    "        if pkdlook[loop][0].split(\"_\")[-2]==fkdlook[loop2][0].split(\"_\")[-2]:\n",
    "            print(f' PKey {pkdlook[loop][0].split(\"_\")[1]} from {pkdlook[loop][0].split(\"_\")[0]} has same prefix \"{pkdlook[loop][0].split(\"_\")[-2]}\" than FKey {fkdlook[loop2][0].split(\"_\")[1]} from {fkdlook[loop2][0].split(\"_\")[0]}')\n",
    "        if ((float(pkdlook[loop][0].split(\"_\")[-1])/float(fkdlook[loop2][0].split(\"_\")[-1])>0.99) and (float(pkdlook[loop][0].split(\"_\")[-1])/float(fkdlook[loop2][0].split(\"_\")[-1])<1.01)):\n",
    "            print(f' PKey {pkdlook[loop][0].split(\"_\")[1]} from {pkdlook[loop][0].split(\"_\")[0]} has same size than FKey {fkdlook[loop2][0].split(\"_\")[1]} from {fkdlook[loop2][0].split(\"_\")[0]}')\n",
    "        elif ((float(pkdlook[loop][0].split(\"_\")[-1])/float(fkdlook[loop2][0].split(\"_\")[-1])>0.9) and (float(pkdlook[loop][0].split(\"_\")[-1])/float(fkdlook[loop2][0].split(\"_\")[-1])<1.1)):\n",
    "            print(f' PKey {pkdlook[loop][0].split(\"_\")[1]} from {pkdlook[loop][0].split(\"_\")[0]} has close size with FKey {fkdlook[loop2][0].split(\"_\")[1]} from {fkdlook[loop2][0].split(\"_\")[0]} Deltasize_MLN ={round(abs((float(pkdlook[loop][0].split(\"_\")[-1])-float(fkdlook[loop2][0].split(\"_\")[-1]))),2)}')\n",
    "        \n",
    "#        print(pkdlook[loop][0].split(\"_\")[-1])\n",
    "#        print(fkdlook[loop2][0].split(\"_\")[-1])\n",
    "#        print(pkdlook[loop][0].split(\"_\")[-2])\n",
    "#        print(fkdlook[loop2][0].split(\"_\")[-2])\n",
    "#        print(pkdlook[loop][0].split(\"_\")[1])\n",
    "#        print(fkdlook[loop2][0].split(\"_\")[1])\n",
    "#        print(pkdlook[loop][0].split(\"_\")[0])\n",
    "#        print(fkdlook[loop2][0].split(\"_\")[0])"
   ]
  }
 ],
 "metadata": {
  "kernelspec": {
   "display_name": "Python 3",
   "language": "python",
   "name": "python3"
  },
  "language_info": {
   "codemirror_mode": {
    "name": "ipython",
    "version": 3
   },
   "file_extension": ".py",
   "mimetype": "text/x-python",
   "name": "python",
   "nbconvert_exporter": "python",
   "pygments_lexer": "ipython3",
   "version": "3.11.9"
  }
 },
 "nbformat": 4,
 "nbformat_minor": 2
}
